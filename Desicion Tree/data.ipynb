{
 "cells": [
  {
   "cell_type": "code",
   "execution_count": 1,
   "metadata": {},
   "outputs": [],
   "source": [
    "import numpy as np \n",
    "import pandas as pd \n",
    "import random \n",
    "# Import libraries "
   ]
  },
  {
   "cell_type": "code",
   "execution_count": 2,
   "metadata": {},
   "outputs": [
    {
     "data": {
      "text/plain": [
       "[[19, 170, 98, 'Female', 'Biryani'],\n",
       " [43, 168, 82, 'Male', 'Salad'],\n",
       " [48, 182, 84, 'Male', 'Pakora'],\n",
       " [36, 177, 70, 'Female', 'Samosa'],\n",
       " [39, 169, 65, 'Female', 'Pakora'],\n",
       " [59, 164, 57, 'Female', 'Biryani'],\n",
       " [37, 189, 66, 'Female', 'Salad'],\n",
       " [45, 159, 98, 'Female', 'Samosa'],\n",
       " [19, 186, 71, 'Female', 'Salad'],\n",
       " [38, 189, 65, 'Female', 'Biryani'],\n",
       " [19, 184, 60, 'Female', 'Biryani'],\n",
       " [62, 165, 64, 'Female', 'Samosa'],\n",
       " [23, 167, 57, 'Male', 'Pakora'],\n",
       " [49, 187, 92, 'Male', 'Pakora'],\n",
       " [40, 179, 85, 'Male', 'Salad'],\n",
       " [34, 189, 56, 'Male', 'Biryani'],\n",
       " [64, 163, 97, 'Male', 'Biryani'],\n",
       " [46, 190, 81, 'Male', 'Samosa'],\n",
       " [30, 155, 69, 'Female', 'Samosa'],\n",
       " [51, 170, 84, 'Male', 'Biryani'],\n",
       " [19, 177, 87, 'Male', 'Salad'],\n",
       " [34, 179, 62, 'Female', 'Biryani'],\n",
       " [43, 178, 75, 'Female', 'Salad'],\n",
       " [18, 175, 82, 'Male', 'Biryani'],\n",
       " [23, 187, 91, 'Female', 'Pakora'],\n",
       " [47, 189, 71, 'Male', 'Samosa'],\n",
       " [19, 188, 65, 'Female', 'Samosa'],\n",
       " [58, 187, 79, 'Male', 'Salad'],\n",
       " [44, 163, 74, 'Female', 'Biryani'],\n",
       " [58, 186, 74, 'Female', 'Samosa'],\n",
       " [38, 170, 70, 'Male', 'Biryani'],\n",
       " [20, 175, 71, 'Male', 'Salad'],\n",
       " [27, 177, 95, 'Female', 'Samosa'],\n",
       " [45, 185, 95, 'Female', 'Biryani'],\n",
       " [37, 178, 73, 'Male', 'Biryani'],\n",
       " [22, 171, 66, 'Female', 'Biryani'],\n",
       " [58, 164, 73, 'Female', 'Pakora'],\n",
       " [39, 177, 78, 'Female', 'Biryani'],\n",
       " [46, 188, 68, 'Male', 'Salad'],\n",
       " [40, 169, 78, 'Female', 'Pakora'],\n",
       " [22, 174, 70, 'Male', 'Samosa'],\n",
       " [60, 172, 83, 'Female', 'Samosa'],\n",
       " [30, 179, 69, 'Female', 'Samosa'],\n",
       " [58, 179, 88, 'Female', 'Salad'],\n",
       " [61, 155, 57, 'Male', 'Biryani'],\n",
       " [27, 190, 75, 'Female', 'Salad'],\n",
       " [63, 156, 63, 'Female', 'Biryani'],\n",
       " [34, 190, 72, 'Female', 'Pakora'],\n",
       " [46, 187, 67, 'Male', 'Pakora'],\n",
       " [52, 181, 70, 'Male', 'Pakora']]"
      ]
     },
     "execution_count": 2,
     "metadata": {},
     "output_type": "execute_result"
    }
   ],
   "source": [
    "# Create a DataSet Of Age, Weight, Height, Gender, and Likeness\n",
    "\n",
    "data =[]\n",
    "for i in range(50):\n",
    "    Age = random.randint(18, 65)\n",
    "    Height = random.randint(155, 190)\n",
    "    Weight = random.randint(55, 100)\n",
    "    g = random.randint(0, 1)\n",
    "    if g==1:\n",
    "        Gender = 'Male'\n",
    "    else:\n",
    "        Gender = 'Female'\n",
    "    l = random.randint(0, 3)\n",
    "    if l == 0:\n",
    "        Likeness = 'Biryani'\n",
    "    elif l==1:\n",
    "        Likeness = 'Samosa'\n",
    "    elif l==2:    \n",
    "        Likeness = 'Pakora'\n",
    "    elif l==3:\n",
    "        Likeness =  'Salad'\n",
    "\n",
    "    data.append([Age, Height, Weight, Gender, Likeness])\n",
    "\n",
    "data\n"
   ]
  },
  {
   "cell_type": "code",
   "execution_count": 3,
   "metadata": {},
   "outputs": [],
   "source": [
    "import csv"
   ]
  },
  {
   "cell_type": "code",
   "execution_count": 4,
   "metadata": {},
   "outputs": [],
   "source": [
    "# Save To CSV File\n",
    "with open('data.csv', mode='w', newline='') as file:\n",
    "    write = csv.writer(file)\n",
    "    write.writerow(['Age', 'Height', 'Weight', 'Gender', 'Likeness'])\n",
    "    for row in data:\n",
    "        write.writerow(row)"
   ]
  }
 ],
 "metadata": {
  "kernelspec": {
   "display_name": "Python 3.10.5 64-bit",
   "language": "python",
   "name": "python3"
  },
  "language_info": {
   "codemirror_mode": {
    "name": "ipython",
    "version": 3
   },
   "file_extension": ".py",
   "mimetype": "text/x-python",
   "name": "python",
   "nbconvert_exporter": "python",
   "pygments_lexer": "ipython3",
   "version": "3.10.5"
  },
  "orig_nbformat": 4,
  "vscode": {
   "interpreter": {
    "hash": "26de051ba29f2982a8de78e945f0abaf191376122a1563185a90213a26c5da77"
   }
  }
 },
 "nbformat": 4,
 "nbformat_minor": 2
}
