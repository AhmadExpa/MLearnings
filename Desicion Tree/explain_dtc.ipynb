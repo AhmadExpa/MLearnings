{
 "cells": [
  {
   "attachments": {},
   "cell_type": "markdown",
   "metadata": {},
   "source": [
    "# Decision Tree Classifier\n",
    "1.  We cannot draw a line to seperate line as in linear regression and logistic regression\n",
    "2. Dts help in that\n",
    "   -> A lot of if else statements\n",
    "   -> family tree -> Until the last Child \n",
    "\n",
    "## Binary Classification\n",
    "How Prediction Works ?\n",
    "1. Start from root node and go ahead\n",
    "#### Nested \n",
    "1. if else statements but the right conditions \n",
    "are modeled by Dts\n",
    "2. Model Learn from Data (take optimal splitting points)\n",
    "\n",
    "### Splitting is don on the basis of information theory called entropy\n",
    " 1. At root/Start information is the most and bcomes less at the last (PLN) (Pure Leaf Node)\n",
    " 2. Root Node = E = 1 = Highest entropy value\n",
    " 3. (PLN) = 0 = E = Only one class \n",
    " 4. E = Reduces from the root -> Last PLN\n",
    " 5. entropy vs gini (information gain)\n",
    "\n",
    " 1. Select those who had more information gain\n",
    " 2. fast based on its selection\n",
    " 3. simple \n",
    "\n",
    " ### Formula :\n",
    " gini sindex = 1-sum p^2\n",
    "= probablity of class \n",
    "1- (0.5+0.5)^2 -0.5\n",
    "\n",
    "entropy : sum - p log(p) --> {splitting criteria }\n",
    "gini index = 1-sum p^2   --> {splitting criteria }\n",
    "\n",
    "\n"
   ]
  },
  {
   "cell_type": "code",
   "execution_count": null,
   "metadata": {},
   "outputs": [],
   "source": [
    "# Importing Libraries\n",
    "import pandas as pd\n",
    "import numpy as np \n",
    "import seaborn as sns\n",
    "import matplotlib.pyplot as plt \n",
    "from sklearn.tree import DecisionTreeClassifier"
   ]
  },
  {
   "cell_type": "code",
   "execution_count": null,
   "metadata": {},
   "outputs": [],
   "source": [
    "df = sns.load_dataset('titanic')\n",
    "\n",
    "df = df.drop('deck', axis=1)\n",
    "df = df.drop('adult_male', axis=1)\n",
    "df = df.drop('pclass', axis=1)\n",
    "df = df.drop('sibsp', axis=1)\n",
    "df = df.drop('embarked', axis=1)\n",
    "df = df.drop('parch', axis=1)\n",
    "df = df.drop('survived', axis=1)\n",
    "df = df.drop('who', axis=1)\n",
    "\n",
    "\n",
    "\n",
    "df['sex'] = df['sex'].replace(\"male\",1)\n",
    "df['sex'] = df['sex'].replace(\"female\",0)\n",
    "\n",
    "df['class'] = df['class'].replace(\"First\",1)\n",
    "df['class'] = df['class'].replace(\"Second\",2)\n",
    "df['class'] = df['class'].replace(\"Third\",3)\n",
    "\n",
    "df['embark_town'] = df['embark_town'].replace(\"Southampton\",1)\n",
    "df['embark_town'] = df['embark_town'].replace(\"Cherbourg\",2)\n",
    "df['embark_town'] = df['embark_town'].replace(\"Queenstown\",3)\n",
    "\n",
    "df['alive'] = df['alive'].replace(\"yes\",1)\n",
    "df['alive'] = df['alive'].replace(\"no\",0)\n",
    "\n",
    "df['alone'] = df['alone'].replace(\"True\",1)\n",
    "df['alone'] = df['alone'].replace(\"False\",0)\n",
    "\n"
   ]
  },
  {
   "cell_type": "code",
   "execution_count": null,
   "metadata": {},
   "outputs": [],
   "source": [
    "df = df.dropna()\n",
    "df.isnull().sum()\n",
    "df.head()"
   ]
  },
  {
   "cell_type": "code",
   "execution_count": null,
   "metadata": {},
   "outputs": [],
   "source": [
    "x = df[['sex', 'age', 'fare', 'class', 'embark_town', 'alone']]\n",
    "y = df['alive']"
   ]
  },
  {
   "cell_type": "code",
   "execution_count": null,
   "metadata": {},
   "outputs": [],
   "source": [
    "# from sklearn.tree import DecisionTreeClassifier & plot_tree\n",
    "from sklearn.tree import plot_tree\n",
    "from sklearn.model_selection import train_test_split"
   ]
  },
  {
   "cell_type": "code",
   "execution_count": 98,
   "metadata": {},
   "outputs": [],
   "source": [
    "x_train, x_test, y_train, y_test = train_test_split(x,y, test_size=0.20)"
   ]
  },
  {
   "cell_type": "code",
   "execution_count": null,
   "metadata": {},
   "outputs": [],
   "source": [
    "model = DecisionTreeClassifier().fit(x_train,y_train)"
   ]
  },
  {
   "cell_type": "code",
   "execution_count": null,
   "metadata": {},
   "outputs": [],
   "source": [
    "# model.predict([[1,38,15,1,2,0]]) # [['sex', 'age', 'fare', 'class', 'embark_town', 'alone']]"
   ]
  },
  {
   "cell_type": "code",
   "execution_count": null,
   "metadata": {},
   "outputs": [],
   "source": [
    "plot_tree(model, filled=True)\n",
    "plt.title(\"Alive Predict\")\n",
    "# Save plot in tif, png, pdf in HD\n",
    "# plt.savefig(\"Alive_Predict.pdf\", dpi=300)\n",
    "plt.savefig(\"Alive_Predict.tif\", dpi=600, format='tiff', facecolor='white', edgecolor='None', pil_kwargs = {'comprehension':'tiff_lzw'})"
   ]
  },
  {
   "cell_type": "code",
   "execution_count": null,
   "metadata": {},
   "outputs": [],
   "source": [
    "from sklearn.metrics import accuracy_score"
   ]
  },
  {
   "cell_type": "code",
   "execution_count": 99,
   "metadata": {},
   "outputs": [
    {
     "data": {
      "text/plain": [
       "0.9370629370629371"
      ]
     },
     "execution_count": 99,
     "metadata": {},
     "output_type": "execute_result"
    }
   ],
   "source": [
    "prediction = model.predict(x_test)\n",
    "score = accuracy_score(y_test, prediction)\n",
    "score"
   ]
  }
 ],
 "metadata": {
  "kernelspec": {
   "display_name": "Python 3.10.5 64-bit",
   "language": "python",
   "name": "python3"
  },
  "language_info": {
   "codemirror_mode": {
    "name": "ipython",
    "version": 3
   },
   "file_extension": ".py",
   "mimetype": "text/x-python",
   "name": "python",
   "nbconvert_exporter": "python",
   "pygments_lexer": "ipython3",
   "version": "3.10.5"
  },
  "orig_nbformat": 4,
  "vscode": {
   "interpreter": {
    "hash": "26de051ba29f2982a8de78e945f0abaf191376122a1563185a90213a26c5da77"
   }
  }
 },
 "nbformat": 4,
 "nbformat_minor": 2
}
