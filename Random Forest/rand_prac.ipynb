{
 "cells": [
  {
   "cell_type": "code",
   "execution_count": 1,
   "metadata": {},
   "outputs": [],
   "source": [
    "# Importing Libraries\n",
    "import pandas as pd\n",
    "import numpy as np \n",
    "import seaborn as sns\n",
    "import matplotlib.pyplot as plt "
   ]
  },
  {
   "cell_type": "code",
   "execution_count": 2,
   "metadata": {},
   "outputs": [],
   "source": [
    "df = sns.load_dataset('titanic')\n",
    "# ----------------------------------\n",
    "df = df.drop('deck', axis=1)\n",
    "df = df.drop('adult_male', axis=1)\n",
    "df = df.drop('pclass', axis=1)\n",
    "df = df.drop('sibsp', axis=1)\n",
    "df = df.drop('embarked', axis=1)\n",
    "df = df.drop('parch', axis=1)\n",
    "df = df.drop('survived', axis=1)\n",
    "df = df.drop('who', axis=1)\n",
    "# ----------------------------------\n",
    "\n",
    "\n",
    "df['sex'] = df['sex'].replace(\"male\",1)\n",
    "df['sex'] = df['sex'].replace(\"female\",0)\n",
    "\n",
    "\n",
    "# -----------------------------------\n",
    "\n",
    "df['class'] = df['class'].replace(\"First\",1)\n",
    "df['class'] = df['class'].replace(\"Second\",2)\n",
    "df['class'] = df['class'].replace(\"Third\",3)\n",
    "\n",
    "# ------------------------------------\n",
    "\n",
    "df['embark_town'] = df['embark_town'].replace(\"Southampton\",1)\n",
    "df['embark_town'] = df['embark_town'].replace(\"Cherbourg\",2)\n",
    "df['embark_town'] = df['embark_town'].replace(\"Queenstown\",3)\n",
    "\n",
    "# ------------------------------------\n",
    "\n",
    "df['alive'] = df['alive'].replace(\"yes\",1)\n",
    "df['alive'] = df['alive'].replace(\"no\",0)\n",
    "\n",
    "# ------------------------------------\n",
    "\n",
    "df['alone'] = df['alone'].replace(\"True\",1)\n",
    "df['alone'] = df['alone'].replace(\"False\",0)\n",
    "\n",
    "# ------------------------------------\n",
    "\n",
    "df = df.dropna()\n",
    "df.isnull().sum()\n",
    "df.tail()"
   ]
  },
  {
   "cell_type": "code",
   "execution_count": 4,
   "metadata": {},
   "outputs": [],
   "source": [
    "x = df[['sex', 'age', 'fare', 'class', 'embark_town', 'alone']]\n",
    "y = df['alive']"
   ]
  },
  {
   "cell_type": "code",
   "execution_count": 15,
   "metadata": {},
   "outputs": [
    {
     "name": "stderr",
     "output_type": "stream",
     "text": [
      "/home/ahmad/.local/lib/python3.11/site-packages/sklearn/base.py:420: UserWarning: X does not have valid feature names, but RandomForestClassifier was fitted with feature names\n",
      "  warnings.warn(\n"
     ]
    },
    {
     "data": {
      "text/plain": [
       "array([1])"
      ]
     },
     "execution_count": 15,
     "metadata": {},
     "output_type": "execute_result"
    }
   ],
   "source": [
    "from sklearn.ensemble import RandomForestClassifier\n",
    "model = RandomForestClassifier(n_estimators=100)\n",
    "model.fit(x,y)\n",
    "model.predict([[0,18,255,2,3,1]])"
   ]
  },
  {
   "cell_type": "code",
   "execution_count": 16,
   "metadata": {},
   "outputs": [],
   "source": [
    "from sklearn.metrics import accuracy_score\n",
    "from sklearn import metrics\n",
    "from sklearn.model_selection import train_test_split\n",
    "x_train, x_test, y_train, y_test = train_test_split(x,y, test_size=0.20)"
   ]
  },
  {
   "cell_type": "code",
   "execution_count": 18,
   "metadata": {},
   "outputs": [
    {
     "data": {
      "text/plain": [
       "0.993006993006993"
      ]
     },
     "execution_count": 18,
     "metadata": {},
     "output_type": "execute_result"
    }
   ],
   "source": [
    "prediction = model.predict(x_test)\n",
    "score = model.score(x_test,y_test)\n",
    "score"
   ]
  },
  {
   "cell_type": "code",
   "execution_count": 19,
   "metadata": {},
   "outputs": [
    {
     "name": "stdout",
     "output_type": "stream",
     "text": [
      "0.993006993006993\n"
     ]
    }
   ],
   "source": [
    "print(metrics.accuracy_score(y_test, prediction))"
   ]
  },
  {
   "cell_type": "code",
   "execution_count": 27,
   "metadata": {},
   "outputs": [
    {
     "name": "stdout",
     "output_type": "stream",
     "text": [
      "[[85  1]\n",
      " [ 0 57]]\n"
     ]
    }
   ],
   "source": [
    "cm = metrics.confusion_matrix(y_test, prediction)\n",
    "print(cm)"
   ]
  },
  {
   "cell_type": "code",
   "execution_count": 29,
   "metadata": {},
   "outputs": [
    {
     "data": {
      "text/plain": [
       "Text(0.5, 1.0, 'accuracy_score: 0.993006993006993')"
      ]
     },
     "execution_count": 29,
     "metadata": {},
     "output_type": "execute_result"
    },
    {
     "data": {
      "image/png": "[encoded data removed]",
      "text/plain": [
       "<Figure size 640x480 with 2 Axes>"
      ]
     },
     "metadata": {},
     "output_type": "display_data"
    }
   ],
   "source": [
    "# Plotting\n",
    "plt.Figure(figsize=(9,9))\n",
    "sns.heatmap(cm, annot=True, fmt='.3f', linewidths=.5, square=True, cmap='Spectral');\n",
    "plt.xlabel(\"Predict Value\");\n",
    "plt.ylabel(\"Actual Value\");\n",
    "all_sample_title = 'accuracy_score: {0}'.format(score)\n",
    "plt.title(all_sample_title, size =15)"
   ]
  }
 ],
 "metadata": {
  "kernelspec": {
   "display_name": "Python 3.10.5 64-bit",
   "language": "python",
   "name": "python3"
  },
  "language_info": {
   "codemirror_mode": {
    "name": "ipython",
    "version": 3
   },
   "file_extension": ".py",
   "mimetype": "text/x-python",
   "name": "python",
   "nbconvert_exporter": "python",
   "pygments_lexer": "ipython3",
   "version": "3.10.5"
  },
  "orig_nbformat": 4,
  "vscode": {
   "interpreter": {
    "hash": "26de051ba29f2982a8de78e945f0abaf191376122a1563185a90213a26c5da77"
   }
  }
 },
 "nbformat": 4,
 "nbformat_minor": 2
}
