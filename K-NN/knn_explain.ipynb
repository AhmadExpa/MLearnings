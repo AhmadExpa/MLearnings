{
 "cells": [
  {
   "attachments": {},
   "cell_type": "markdown",
   "metadata": {},
   "source": [
    "# Supervised Learning\n",
    "\n",
    "Supervised learning is a type of machine learning in which an algorithm learns to predict output based on labeled input data. The algorithm works under the supervision of a teacher who teaches it to recognize patterns in the data and make predictions based on the training data.\n",
    "\n",
    "## Types of Supervised Learning\n",
    "\n",
    "### Classification\n",
    "\n",
    "Classification is used when the output is categorical, i.e., it falls under a specific category. The algorithm learns to classify the data into specific categories.\n",
    "\n",
    "### Regression\n",
    "\n",
    "Regression is used when the output is numerical, i.e., it falls under a specific range of values. The algorithm learns to predict the outcome based on the input data.\n",
    "\n",
    "## Supervised Learning Algorithms\n",
    "\n",
    "There are various supervised learning algorithms. Some of the popular algorithms are:\n",
    "\n",
    "### Simple Linear Regression/ Multi-linear Regression / Logistic Regression\n",
    "\n",
    "Simple linear regression is used when there is only one input variable, whereas multi-linear regression is used when there are more than one input variables. Logistic regression is used for classification problems.\n",
    "\n",
    "### Decision Tree Classification\n",
    "\n",
    "Decision trees are used for both regression and classification problems. They learn a hierarchy of if/else questions and make predictions based on the answers.\n",
    "\n",
    "### Random Forest Classification\n",
    "\n",
    "Random forests are an ensemble learning method that uses multiple decision trees to make predictions.\n",
    "\n",
    "### K-NN (K Nearest Neighbour)\n",
    "\n",
    "K-NN is a classification algorithm that works by identifying the k-nearest neighbors to a given data point and predicting the class of that data point based on the majority class of its neighbors.\n",
    "\n",
    "### Kernel SVM\n",
    "\n",
    "Kernel SVM is a classification algorithm that maps data into a high-dimensional feature space and then finds a separating hyperplane.\n",
    "\n",
    "### SVM (Support Vector Machine)\n",
    "\n",
    "SVM is a classification algorithm that finds the optimal hyperplane that separates the data into classes.\n",
    "\n",
    "### Naive Bayes\n",
    "\n",
    "Naive Bayes is a classification algorithm that is based on Bayes' theorem. It is simple and fast and works well with high-dimensional datasets.\n",
    "\n",
    "## K-NN\n",
    "\n",
    "K-NN is a classification algorithm that works by identifying the k-nearest neighbors to a given data point and predicting the class of that data point based on the majority class of its neighbors. It can also be used for numerical data regression.\n",
    "\n",
    "### K-NN Accuracy\n",
    "\n",
    "The accuracy of K-NN can be measured using various metrics such as Jaccard index, F1 score, log loss, and many more.\n",
    "\n",
    "### Classification Accuracy\n",
    "\n",
    "The accuracy of a classification model can be measured using metrics such as area under curve, confusion matrix, mean squared error, and mean absolute error.\n",
    "\n",
    "## Pros and Cons of K-NN\n",
    "\n",
    "### Pros\n",
    "\n",
    "- Training phase is faster \n",
    "- Instance-based learning algorithm\n",
    "- Can be used with non-linear data\n",
    "\n",
    "### Cons\n",
    "\n",
    "- Testing phase is slower\n",
    "- Costly for power\n",
    "- Not suitable for large dimension\n",
    "\n",
    "## How to Improve K-NN?\n",
    "\n",
    "K-NN can be improved by:\n",
    "\n",
    "- Data wrangling and scaling\n",
    "- Dealing with missing values (noise)\n",
    "- Normalizing on the same scale for every reduce dimension to improve dimensionality reduction.\n",
    "\n"
   ]
  },
  {
   "cell_type": "code",
   "execution_count": 44,
   "metadata": {},
   "outputs": [],
   "source": [
    "# import libraries\n",
    "import pandas as pd"
   ]
  },
  {
   "cell_type": "code",
   "execution_count": 45,
   "metadata": {},
   "outputs": [],
   "source": [
    "data = pd.read_csv('data.csv')\n",
    "# data.head()"
   ]
  },
  {
   "cell_type": "code",
   "execution_count": 46,
   "metadata": {},
   "outputs": [],
   "source": [
    "data['Gender'] = data['Gender'].replace('Male',1)\n",
    "data['Gender'] = data['Gender'].replace('Female',0)\n",
    "# data.head()"
   ]
  },
  {
   "cell_type": "code",
   "execution_count": 47,
   "metadata": {},
   "outputs": [
    {
     "data": {
      "text/html": [
       "<div>\n",
       "<style scoped>\n",
       "    .dataframe tbody tr th:only-of-type {\n",
       "        vertical-align: middle;\n",
       "    }\n",
       "\n",
       "    .dataframe tbody tr th {\n",
       "        vertical-align: top;\n",
       "    }\n",
       "\n",
       "    .dataframe thead th {\n",
       "        text-align: right;\n",
       "    }\n",
       "</style>\n",
       "<table border=\"1\" class=\"dataframe\">\n",
       "  <thead>\n",
       "    <tr style=\"text-align: right;\">\n",
       "      <th></th>\n",
       "      <th>Age</th>\n",
       "      <th>Height</th>\n",
       "      <th>Weight</th>\n",
       "      <th>Gender</th>\n",
       "    </tr>\n",
       "  </thead>\n",
       "  <tbody>\n",
       "    <tr>\n",
       "      <th>0</th>\n",
       "      <td>18</td>\n",
       "      <td>176</td>\n",
       "      <td>58</td>\n",
       "      <td>1</td>\n",
       "    </tr>\n",
       "    <tr>\n",
       "      <th>1</th>\n",
       "      <td>55</td>\n",
       "      <td>179</td>\n",
       "      <td>87</td>\n",
       "      <td>1</td>\n",
       "    </tr>\n",
       "    <tr>\n",
       "      <th>2</th>\n",
       "      <td>52</td>\n",
       "      <td>170</td>\n",
       "      <td>95</td>\n",
       "      <td>1</td>\n",
       "    </tr>\n",
       "    <tr>\n",
       "      <th>3</th>\n",
       "      <td>57</td>\n",
       "      <td>176</td>\n",
       "      <td>61</td>\n",
       "      <td>0</td>\n",
       "    </tr>\n",
       "    <tr>\n",
       "      <th>4</th>\n",
       "      <td>61</td>\n",
       "      <td>175</td>\n",
       "      <td>56</td>\n",
       "      <td>0</td>\n",
       "    </tr>\n",
       "  </tbody>\n",
       "</table>\n",
       "</div>"
      ],
      "text/plain": [
       "   Age  Height  Weight  Gender\n",
       "0   18     176      58       1\n",
       "1   55     179      87       1\n",
       "2   52     170      95       1\n",
       "3   57     176      61       0\n",
       "4   61     175      56       0"
      ]
     },
     "execution_count": 47,
     "metadata": {},
     "output_type": "execute_result"
    }
   ],
   "source": [
    "x = data[['Age','Height', 'Weight', 'Gender']]\n",
    "y = data['Likeness']\n",
    "x.head()"
   ]
  },
  {
   "cell_type": "code",
   "execution_count": 48,
   "metadata": {},
   "outputs": [],
   "source": [
    "from sklearn.neighbors import KNeighborsClassifier\n",
    "from sklearn.model_selection import train_test_split"
   ]
  },
  {
   "cell_type": "code",
   "execution_count": 83,
   "metadata": {},
   "outputs": [],
   "source": [
    "x_train, x_test, y_train, y_test = train_test_split(x, y, test_size=0.20)\n",
    "model = KNeighborsClassifier(n_neighbors=5)\n",
    "model.fit(x_train, y_train)\n",
    "prediction = model.predict(x_test)"
   ]
  },
  {
   "cell_type": "code",
   "execution_count": 73,
   "metadata": {},
   "outputs": [],
   "source": [
    "from sklearn.metrics import accuracy_score\n",
    "from sklearn import metrics\n"
   ]
  },
  {
   "cell_type": "code",
   "execution_count": 86,
   "metadata": {},
   "outputs": [
    {
     "name": "stdout",
     "output_type": "stream",
     "text": [
      "Accuracy Score Of This K-NN Model (In %) : 40.0\n"
     ]
    }
   ],
   "source": [
    "score = metrics.accuracy_score(y_test, prediction)\n",
    "print(f'Accuracy Score Of This K-NN Model (In %) : {score*100}')"
   ]
  }
 ],
 "metadata": {
  "kernelspec": {
   "display_name": "Python 3",
   "language": "python",
   "name": "python3"
  },
  "language_info": {
   "codemirror_mode": {
    "name": "ipython",
    "version": 3
   },
   "file_extension": ".py",
   "mimetype": "text/x-python",
   "name": "python",
   "nbconvert_exporter": "python",
   "pygments_lexer": "ipython3",
   "version": "3.11.1"
  },
  "orig_nbformat": 4,
  "vscode": {
   "interpreter": {
    "hash": "767d51c1340bd893661ea55ea3124f6de3c7a262a8b4abca0554b478b1e2ff90"
   }
  }
 },
 "nbformat": 4,
 "nbformat_minor": 2
}
