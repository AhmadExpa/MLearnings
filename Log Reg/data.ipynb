{
 "cells": [
  {
   "cell_type": "code",
   "execution_count": 16,
   "metadata": {},
   "outputs": [],
   "source": [
    "import numpy as np \n",
    "import pandas as pd \n",
    "import random \n",
    "# Import libraries "
   ]
  },
  {
   "cell_type": "code",
   "execution_count": 22,
   "metadata": {},
   "outputs": [
    {
     "data": {
      "text/plain": [
       "[[18, 176, 58, 'Male', 'Biryani'],\n",
       " [55, 179, 87, 'Male', 'Pakora'],\n",
       " [52, 170, 95, 'Male', 'Samosa'],\n",
       " [57, 176, 61, 'Female', 'Biryani'],\n",
       " [61, 175, 56, 'Female', 'Biryani'],\n",
       " [49, 155, 97, 'Male', 'Salad'],\n",
       " [56, 183, 66, 'Male', 'Pakora'],\n",
       " [26, 156, 79, 'Male', 'Salad'],\n",
       " [27, 180, 93, 'Male', 'Salad'],\n",
       " [56, 188, 81, 'Male', 'Samosa'],\n",
       " [24, 182, 62, 'Female', 'Pakora'],\n",
       " [61, 170, 89, 'Female', 'Salad'],\n",
       " [46, 155, 78, 'Male', 'Samosa'],\n",
       " [47, 166, 56, 'Female', 'Pakora'],\n",
       " [41, 159, 92, 'Female', 'Samosa'],\n",
       " [40, 186, 68, 'Male', 'Pakora'],\n",
       " [36, 168, 58, 'Male', 'Samosa'],\n",
       " [44, 190, 95, 'Female', 'Salad'],\n",
       " [18, 185, 72, 'Male', 'Pakora'],\n",
       " [35, 168, 81, 'Male', 'Samosa'],\n",
       " [56, 180, 80, 'Male', 'Pakora'],\n",
       " [32, 169, 99, 'Female', 'Pakora'],\n",
       " [32, 183, 62, 'Male', 'Pakora'],\n",
       " [51, 183, 92, 'Female', 'Samosa'],\n",
       " [33, 180, 67, 'Female', 'Biryani'],\n",
       " [22, 155, 80, 'Male', 'Pakora'],\n",
       " [18, 161, 90, 'Female', 'Biryani'],\n",
       " [19, 173, 57, 'Male', 'Biryani'],\n",
       " [41, 159, 65, 'Female', 'Biryani'],\n",
       " [57, 184, 60, 'Male', 'Biryani'],\n",
       " [36, 159, 58, 'Female', 'Pakora'],\n",
       " [41, 182, 87, 'Female', 'Pakora'],\n",
       " [43, 156, 66, 'Female', 'Pakora'],\n",
       " [44, 158, 87, 'Female', 'Samosa'],\n",
       " [40, 166, 72, 'Male', 'Biryani'],\n",
       " [59, 170, 93, 'Female', 'Samosa'],\n",
       " [52, 159, 69, 'Female', 'Samosa'],\n",
       " [65, 178, 89, 'Female', 'Biryani'],\n",
       " [20, 185, 92, 'Female', 'Samosa'],\n",
       " [43, 184, 93, 'Female', 'Biryani'],\n",
       " [51, 160, 84, 'Female', 'Salad'],\n",
       " [31, 161, 93, 'Female', 'Salad'],\n",
       " [19, 183, 100, 'Male', 'Biryani'],\n",
       " [25, 156, 61, 'Female', 'Pakora'],\n",
       " [37, 178, 70, 'Female', 'Biryani'],\n",
       " [53, 166, 55, 'Male', 'Pakora'],\n",
       " [40, 160, 59, 'Female', 'Pakora'],\n",
       " [56, 183, 69, 'Male', 'Salad'],\n",
       " [59, 183, 56, 'Male', 'Biryani'],\n",
       " [24, 162, 97, 'Male', 'Salad']]"
      ]
     },
     "execution_count": 22,
     "metadata": {},
     "output_type": "execute_result"
    }
   ],
   "source": [
    "# Create a DataSet Of Age, Weight, Height, Gender, and Likeness\n",
    "\n",
    "data =[]\n",
    "for i in range(50):\n",
    "    Age = random.randint(18, 65)\n",
    "    Height = random.randint(155, 190)\n",
    "    Weight = random.randint(55, 100)\n",
    "    g = random.randint(0, 1)\n",
    "    if g==1:\n",
    "        Gender = 'Male'\n",
    "    else:\n",
    "        Gender = 'Female'\n",
    "    l = random.randint(0, 3)\n",
    "    if l == 0:\n",
    "        Likeness = 'Biryani'\n",
    "    elif l==1:\n",
    "        Likeness = 'Samosa'\n",
    "    elif l==2:    \n",
    "        Likeness = 'Pakora'\n",
    "    elif l==3:\n",
    "        Likeness =  'Salad'\n",
    "\n",
    "    data.append([Age, Height, Weight, Gender, Likeness])\n",
    "\n",
    "data\n"
   ]
  },
  {
   "cell_type": "code",
   "execution_count": 18,
   "metadata": {},
   "outputs": [],
   "source": [
    "import csv"
   ]
  },
  {
   "cell_type": "code",
   "execution_count": 23,
   "metadata": {},
   "outputs": [],
   "source": [
    "# Save To CSV File\n",
    "with open('data.csv', mode='w', newline='') as file:\n",
    "    write = csv.writer(file)\n",
    "    write.writerow(['Age', 'Height', 'Weight', 'Gender', 'Likeness'])\n",
    "    for row in data:\n",
    "        write.writerow(row)"
   ]
  }
 ],
 "metadata": {
  "kernelspec": {
   "display_name": "Python 3",
   "language": "python",
   "name": "python3"
  },
  "language_info": {
   "codemirror_mode": {
    "name": "ipython",
    "version": 3
   },
   "file_extension": ".py",
   "mimetype": "text/x-python",
   "name": "python",
   "nbconvert_exporter": "python",
   "pygments_lexer": "ipython3",
   "version": "3.11.1"
  },
  "orig_nbformat": 4,
  "vscode": {
   "interpreter": {
    "hash": "e7370f93d1d0cde622a1f8e1c04877d8463912d04d973331ad4851f04de6915a"
   }
  }
 },
 "nbformat": 4,
 "nbformat_minor": 2
}
