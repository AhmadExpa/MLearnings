{
 "cells": [
  {
   "attachments": {},
   "cell_type": "markdown",
   "metadata": {},
   "source": [
    "# Logistic Regression\n",
    "## Isn't Same as Linear Regression\n",
    "\n",
    "OutPut:\n",
    "1. R^2 Calculate (pearson's on spearman's)\n",
    "2. Correlation of two continous variable \n",
    "3. -1 --- 0 --- +1 \n",
    "\n",
    "## Isn't same as the Multiple linear regression \n",
    "\n",
    "1. 2x Variable Or More\n",
    "2. Multiple Variable \n",
    "3. Idea Domain Specific \n",
    "\n",
    "## Logistic Regression\n",
    "\n",
    "\n",
    "1. Used In Classification Method\n",
    "2. No Regression line Into Data Instead Use S-Shape\n",
    "3. S_ Shape Logistic Function\n",
    "4. Logistic Regression Tell us The Probablity.\n",
    "5. Works With Continous and DIscreet Data( Like Linear Regression).\n",
    "6. This Makes it popular machine learning method(1. probability 2. Discreet 3. Continous Data )\n",
    "\n",
    "\n",
    "## Linear Regression | Logistic Regression\n",
    "\n",
    "1. Line Fit (Least Square) ---| Line Fit / Different Concepts XR^2 , X has no Least Square\n",
    "2. Mininizing the mean R.E  -| Use Pro bablity (Maximimum Likelihood) \n",
    "3. R^2 tell us the Accuracy  -| Likelihood is the close of something / S-Shape Logistic Function\n",
    "5.  N/A ----------------------|5. Draw Several S-Lines\n",
    "6.  N/A ----------------------|6. Select The S-Line With Maximum Likelihood\n"
   ]
  }
 ],
 "metadata": {
  "kernelspec": {
   "display_name": "Python 3.10.5 64-bit",
   "language": "python",
   "name": "python3"
  },
  "language_info": {
   "name": "python",
   "version": "3.10.5"
  },
  "orig_nbformat": 4,
  "vscode": {
   "interpreter": {
    "hash": "26de051ba29f2982a8de78e945f0abaf191376122a1563185a90213a26c5da77"
   }
  }
 },
 "nbformat": 4,
 "nbformat_minor": 2
}
